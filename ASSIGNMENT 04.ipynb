{
 "cells": [
  {
   "cell_type": "code",
   "execution_count": 1,
   "id": "fa629990",
   "metadata": {
    "scrolled": true
   },
   "outputs": [
    {
     "name": "stdout",
     "output_type": "stream",
     "text": [
      "Enter your first number: 2\n",
      "Enter your second number: 3\n",
      "2 + 3 = \n",
      "5\n",
      "2 - 3 = \n",
      "-1\n",
      "2 * 3 = \n",
      "6\n",
      "2 / 3 = \n",
      "0.6666666666666666\n",
      "2 ** 3 = \n",
      "8\n"
     ]
    }
   ],
   "source": [
    "#1. Make a calculator using Python with addition , subtraction ,\n",
    "#multiplication ,division and power.\n",
    "\n",
    "number_1 = int(input('Enter your first number: '))\n",
    "number_2 = int(input('Enter your second number: '))\n",
    "\n",
    "# Addition\n",
    "print('{} + {} = '.format(number_1, number_2))\n",
    "print(number_1 + number_2)\n",
    "\n",
    "# Subtraction\n",
    "print('{} - {} = '.format(number_1, number_2))\n",
    "print(number_1 - number_2)\n",
    "\n",
    "# Multiplication\n",
    "print('{} * {} = '.format(number_1, number_2))\n",
    "print(number_1 * number_2)\n",
    "\n",
    "# Division\n",
    "print('{} / {} = '.format(number_1, number_2))\n",
    "print(number_1 / number_2)\n",
    "\n",
    "# Power\n",
    "print('{} ** {} = '.format(number_1, number_2))\n",
    "print(number_1 ** number_2)"
   ]
  },
  {
   "cell_type": "code",
   "execution_count": 2,
   "id": "f97e9756",
   "metadata": {},
   "outputs": [
    {
     "name": "stdout",
     "output_type": "stream",
     "text": [
      "9\n"
     ]
    }
   ],
   "source": [
    "#2. Write a program to check if there is any numeric value in list using for loop.\n",
    "\n",
    "list = [\"blue\", \"red\", 9, \"black\"] \n",
    "for x in list: \n",
    "    if type(x) == int: \n",
    "        print(x)"
   ]
  },
  {
   "cell_type": "code",
   "execution_count": 3,
   "id": "5582f7e6",
   "metadata": {},
   "outputs": [
    {
     "name": "stdout",
     "output_type": "stream",
     "text": [
      "{1: 'cat', 2: 'dog', 3: 'lion'}\n",
      "{1: 'cat', 2: 'dog', 3: 'lion', 4: 'Elephant '}\n"
     ]
    }
   ],
   "source": [
    "#3.Write a Python script to add a key to a dictionary.\n",
    "\n",
    "my_dict = {1:\"cat\",2:\"dog\",3:\"lion\"}\n",
    "print(my_dict)\n",
    "my_dict.update({4:\"Elephant \"})\n",
    "print(my_dict)"
   ]
  },
  {
   "cell_type": "code",
   "execution_count": 4,
   "id": "16a755e2",
   "metadata": {},
   "outputs": [
    {
     "name": "stdout",
     "output_type": "stream",
     "text": [
      "18\n"
     ]
    }
   ],
   "source": [
    "#4. Write a Python program to sum all the numeric items in a dictionary.\n",
    "my_dict = {\"a\":3,\"b\":6,\"c\":9}\n",
    "print(sum(my_dict.values()))"
   ]
  },
  {
   "cell_type": "code",
   "execution_count": 5,
   "id": "697997e8",
   "metadata": {},
   "outputs": [
    {
     "name": "stdout",
     "output_type": "stream",
     "text": [
      "2 3 4 5 "
     ]
    }
   ],
   "source": [
    "#5. Write a program to identify duplicate values from list.\n",
    "\n",
    "x=[1,2,3,4,5,2,3,4,6,9,5]\n",
    "y=[]\n",
    "for i in x:\n",
    "    if i not in y:\n",
    "        y.append(i)\n",
    "    else:\n",
    "        print(i,end=' ')\n"
   ]
  },
  {
   "cell_type": "code",
   "execution_count": 6,
   "id": "aa6d7420",
   "metadata": {},
   "outputs": [
    {
     "name": "stdout",
     "output_type": "stream",
     "text": [
      "Key exists\n"
     ]
    }
   ],
   "source": [
    "#6. Write a Python script to check if a given key already exists in a dictionary\n",
    "\n",
    "mydict = {\"a\": \"1\",\"b\": \"2\",\"c\": \"3\",\"d\": \"4\",}\n",
    "\n",
    "key=\"a\"\n",
    "\n",
    "if key in mydict:\n",
    "    print(\"Key exists\") \n",
    "else:\n",
    "    print(\"Key does not exist\")\n"
   ]
  },
  {
   "cell_type": "code",
   "execution_count": null,
   "id": "f62bf87a",
   "metadata": {},
   "outputs": [],
   "source": []
  }
 ],
 "metadata": {
  "kernelspec": {
   "display_name": "Python 3",
   "language": "python",
   "name": "python3"
  },
  "language_info": {
   "codemirror_mode": {
    "name": "ipython",
    "version": 3
   },
   "file_extension": ".py",
   "mimetype": "text/x-python",
   "name": "python",
   "nbconvert_exporter": "python",
   "pygments_lexer": "ipython3",
   "version": "3.8.8"
  }
 },
 "nbformat": 4,
 "nbformat_minor": 5
}
